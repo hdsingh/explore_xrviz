{
 "cells": [
  {
   "cell_type": "code",
   "execution_count": null,
   "metadata": {
    "ExecuteTime": {
     "end_time": "2019-07-25T02:44:19.556301Z",
     "start_time": "2019-07-25T02:44:16.539575Z"
    }
   },
   "outputs": [],
   "source": [
    "import xrviz"
   ]
  },
  {
   "cell_type": "code",
   "execution_count": null,
   "metadata": {
    "ExecuteTime": {
     "end_time": "2019-07-25T02:44:20.645615Z",
     "start_time": "2019-07-25T02:44:19.558149Z"
    }
   },
   "outputs": [],
   "source": [
    "dash = xrviz.example(show=False)\n",
    "dash.panel"
   ]
  }
 ],
 "metadata": {
  "kernelspec": {
   "display_name": "Python 3",
   "language": "python",
   "name": "python3"
  },
  "language_info": {
   "codemirror_mode": {
    "name": "ipython",
    "version": 3
   },
   "file_extension": ".py",
   "mimetype": "text/x-python",
   "name": "python",
   "nbconvert_exporter": "python",
   "pygments_lexer": "ipython3",
   "version": "3.7.3"
  }
 },
 "nbformat": 4,
 "nbformat_minor": 2
}
