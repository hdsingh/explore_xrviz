{
 "cells": [
  {
   "cell_type": "code",
   "execution_count": null,
   "metadata": {
    "ExecuteTime": {
     "end_time": "2019-07-16T10:05:45.244923Z",
     "start_time": "2019-07-16T10:05:43.307054Z"
    }
   },
   "outputs": [],
   "source": [
    "import xrviz\n",
    "import xarray as xr\n",
    "from xrviz.dashboard import Dashboard"
   ]
  },
  {
   "cell_type": "code",
   "execution_count": null,
   "metadata": {
    "ExecuteTime": {
     "end_time": "2019-07-16T10:05:55.494176Z",
     "start_time": "2019-07-16T10:05:45.247914Z"
    }
   },
   "outputs": [],
   "source": [
    "url = 'http://opendap.co-ops.nos.noaa.gov/thredds/dodsC/NOAA/LOOFS/MODELS/201903/glofs.loofs.fields.forecast.20190320.t06z.nc'\n",
    "ds = xr.open_dataset(url) \n",
    "# ds = xr.open_dataset('data/great_lakes.nc')"
   ]
  },
  {
   "cell_type": "code",
   "execution_count": null,
   "metadata": {
    "ExecuteTime": {
     "end_time": "2019-07-16T10:05:58.195481Z",
     "start_time": "2019-07-16T10:05:55.497859Z"
    }
   },
   "outputs": [],
   "source": [
    "dash = Dashboard(ds)\n",
    "dash.panel"
   ]
  }
 ],
 "metadata": {
  "kernelspec": {
   "display_name": "Python 3",
   "language": "python",
   "name": "python3"
  },
  "language_info": {
   "codemirror_mode": {
    "name": "ipython",
    "version": 3
   },
   "file_extension": ".py",
   "mimetype": "text/x-python",
   "name": "python",
   "nbconvert_exporter": "python",
   "pygments_lexer": "ipython3",
   "version": "3.7.3"
  }
 },
 "nbformat": 4,
 "nbformat_minor": 2
}
